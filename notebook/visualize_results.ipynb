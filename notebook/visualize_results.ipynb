{
 "cells": [
  {
   "cell_type": "code",
   "execution_count": null,
   "id": "1839a5a3",
   "metadata": {},
   "outputs": [],
   "source": [
    "import os\n",
    "import torch\n",
    "import random\n",
    "import GPUtil\n",
    "import yaml\n",
    "import matplotlib.pyplot as plt\n",
    "import numpy as np\n",
    "from sklearn.metrics import roc_curve, auc, confusion_matrix\n",
    "import pandas as pd\n",
    "import torch.nn as nn"
   ]
  },
  {
   "cell_type": "code",
   "execution_count": null,
   "id": "088da828",
   "metadata": {},
   "outputs": [],
   "source": [
    "def plot_confusion_matrix(y_true, y_pred, normalize=False, cmap=plt.cm.Blues):\n",
    "\n",
    "    cm = confusion_matrix(y_true, y_pred)\n",
    "    classes = ['$\\it{Real}$','$\\it{Fake}$']\n",
    "    if normalize:\n",
    "        cm = cm.astype('float') / cm.sum(axis=1)[:, np.newaxis]\n",
    "    print(cm)\n",
    "\n",
    "    fsize = 25  # fontsize\n",
    "    fig, ax = plt.subplots()\n",
    "    im = ax.imshow(cm, interpolation='nearest', cmap=cmap, clim=(0,1))\n",
    "    cbar = ax.figure.colorbar(im, ax=ax)\n",
    "    cbar.ax.tick_params(labelsize=fsize)\n",
    "    ax.set(xticks=np.arange(cm.shape[1]),\n",
    "           yticks=np.arange(cm.shape[0]),\n",
    "           )\n",
    "    ax.set_xlabel('$\\mathrm{True\\;label}$', fontsize=fsize)\n",
    "    ax.set_ylabel('$\\mathrm{Predicted\\;label}$', fontsize=fsize)\n",
    "    ax.set_xticklabels(classes, fontsize=fsize)\n",
    "    ax.set_yticklabels(classes, fontsize=fsize)\n",
    "    # Rotate the tick labels and set their alignment.\n",
    "    # plt.setp(ax.get_xticklabels(), rotation=45, ha=\"right\",\n",
    "    #          rotation_mode=\"anchor\")\n",
    "    # Loop over data dimensions and create text annotations.\n",
    "    fmt = '.3f' if normalize else 'd'\n",
    "    thresh = cm.max() / 2.\n",
    "    for i in range(cm.shape[0]):\n",
    "        for j in range(cm.shape[1]):\n",
    "            ax.text(j, i, format('$\\mathrm{' + str(format(cm[i, j], fmt)) + '}$'),\n",
    "                    ha=\"center\", va=\"center\",\n",
    "                    fontsize=fsize,\n",
    "                    color=\"white\" if np.array(cm[i, j]) > thresh else \"black\")\n",
    "    fig.tight_layout()\n",
    "    # plt.show()\n",
    "\n",
    "    return ax"
   ]
  }
 ],
 "metadata": {
  "kernelspec": {
   "display_name": "Python 3",
   "language": "python",
   "name": "python3"
  },
  "language_info": {
   "codemirror_mode": {
    "name": "ipython",
    "version": 3
   },
   "file_extension": ".py",
   "mimetype": "text/x-python",
   "name": "python",
   "nbconvert_exporter": "python",
   "pygments_lexer": "ipython3",
   "version": "3.8.10"
  }
 },
 "nbformat": 4,
 "nbformat_minor": 5
}
