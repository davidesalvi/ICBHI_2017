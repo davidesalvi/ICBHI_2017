{
 "cells": [
  {
   "cell_type": "code",
   "execution_count": 1,
   "id": "initial_id",
   "metadata": {
    "collapsed": true,
    "ExecuteTime": {
     "end_time": "2025-01-14T11:45:58.118044Z",
     "start_time": "2025-01-14T11:45:57.366595Z"
    }
   },
   "outputs": [],
   "source": [
    "import os\n",
    "import numpy as np\n",
    "import pandas as pd\n",
    "import matplotlib.pyplot as plt\n",
    "import librosa"
   ]
  },
  {
   "cell_type": "markdown",
   "source": [
    "# Analyze data distribtuion"
   ],
   "metadata": {
    "collapsed": false
   },
   "id": "70bca9efe8698058"
  },
  {
   "cell_type": "markdown",
   "source": [
    "### Demographic information"
   ],
   "metadata": {
    "collapsed": false
   },
   "id": "eb79072eda718283"
  },
  {
   "cell_type": "code",
   "execution_count": 6,
   "outputs": [
    {
     "data": {
      "text/plain": "<Axes: xlabel='2'>"
     },
     "execution_count": 6,
     "metadata": {},
     "output_type": "execute_result"
    },
    {
     "data": {
      "text/plain": "<Figure size 640x480 with 1 Axes>",
      "image/png": "[encoded data removed]"
     },
     "metadata": {},
     "output_type": "display_data"
    }
   ],
   "source": [
    "df_demo = pd.read_csv('../data/ICBHI_Challenge_demographic_information.txt', sep='\\t', header=None)\n",
    "\n",
    "# plot bar plot of column 2\n",
    "df_demo[2].value_counts().plot(kind='bar')"
   ],
   "metadata": {
    "collapsed": false,
    "ExecuteTime": {
     "end_time": "2025-01-14T11:49:10.053440Z",
     "start_time": "2025-01-14T11:49:09.890720Z"
    }
   },
   "id": "c101f5108cfb189a"
  },
  {
   "cell_type": "code",
   "execution_count": null,
   "outputs": [],
   "source": [],
   "metadata": {
    "collapsed": false
   },
   "id": "a0756237771238c0"
  }
 ],
 "metadata": {
  "kernelspec": {
   "display_name": "Python 3",
   "language": "python",
   "name": "python3"
  },
  "language_info": {
   "codemirror_mode": {
    "name": "ipython",
    "version": 2
   },
   "file_extension": ".py",
   "mimetype": "text/x-python",
   "name": "python",
   "nbconvert_exporter": "python",
   "pygments_lexer": "ipython2",
   "version": "2.7.6"
  }
 },
 "nbformat": 4,
 "nbformat_minor": 5
}
